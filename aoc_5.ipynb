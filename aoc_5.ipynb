{
 "cells": [
  {
   "cell_type": "code",
   "execution_count": 10,
   "metadata": {},
   "outputs": [],
   "source": [
    "I = readlines(open(\"input\"));"
   ]
  },
  {
   "cell_type": "code",
   "execution_count": 11,
   "metadata": {},
   "outputs": [
    {
     "data": {
      "text/plain": [
       "2×1176 Matrix{Int64}:\n",
       " 88  44  44  29  29  29  19  19  19  …  55  55  55  38  38  38  24  24  21\n",
       " 12  33  26  91  23  84  17  84  53     53  83  33  87  12  35  61  42  27"
      ]
     },
     "metadata": {},
     "output_type": "display_data"
    }
   ],
   "source": [
    "rules = parse.(Int,stack(split.(I[begin:findfirst((==)(\"\"),I)-1],\"|\")))"
   ]
  },
  {
   "cell_type": "code",
   "execution_count": 12,
   "metadata": {},
   "outputs": [],
   "source": [
    "break_rules = Dict(i=>rules[1,rules[2,:].==i] for i in unique(rules))\n",
    "oopsie(x) = x[2] in break_rules[x[1]];"
   ]
  },
  {
   "cell_type": "code",
   "execution_count": 13,
   "metadata": {},
   "outputs": [
    {
     "data": {
      "text/plain": [
       "190-element Vector{Vector{Int64}}:\n",
       " [87, 86, 37, 91, 36, 95, 89, 67, 21, 23  …  48, 55, 18, 13, 49, 43, 72, 24, 98, 94]\n",
       " [79, 16, 83, 58, 33, 35, 29, 52, 45, 61, 17, 54, 41, 12, 26]\n",
       " [74, 49, 31, 72, 95, 27, 44, 23, 91, 89, 98, 67, 94, 18, 48]\n",
       " [74, 44, 15, 48, 24, 18, 55, 49, 36, 38  …  89, 67, 52, 41, 31, 23, 43, 95, 98, 21]\n",
       " [67, 94, 49, 55, 15, 98, 58, 95, 74, 87, 18, 21, 72]\n",
       " [17, 89, 95, 36, 42, 91, 62, 75, 79, 74  …  23, 26, 86, 78, 29, 35, 54, 84, 58, 21]\n",
       " [53, 79, 37, 74, 62, 58, 95, 89, 42, 12, 16, 17, 75, 86, 26, 36, 35]\n",
       " [13, 84, 36, 23, 58, 48, 95, 89, 26, 55, 24, 49, 15, 87, 37, 21, 43]\n",
       " [91, 74, 55, 18, 98, 94, 41]\n",
       " [48, 21, 13, 67, 23, 98, 49, 18, 84]\n",
       " ⋮\n",
       " [43, 72, 94, 44, 31, 38, 19, 12, 42, 17, 78, 54, 62]\n",
       " [33, 53, 12, 42, 17, 62, 79, 35, 75, 26, 84, 87, 58, 86, 37, 91, 36, 95, 89]\n",
       " [13, 24, 49, 48, 74, 86, 87, 37, 43, 95, 98, 27, 21, 55, 72, 18, 89]\n",
       " [58, 86, 37, 91, 36, 95, 15, 89, 74, 67  …  48, 55, 18, 13, 49, 43, 72, 98, 94, 44]\n",
       " [61, 35, 16, 91, 37, 26, 53, 12, 86, 17, 75, 83, 87, 33, 78, 42, 58]\n",
       " [54, 62, 29, 79, 35, 75, 26, 58, 86, 91, 95, 89, 74, 21, 23, 27, 48]\n",
       " [86, 37, 91, 89, 67, 21, 23, 27, 48, 18, 49, 43, 72, 24, 98, 94, 31]\n",
       " [18, 24, 31, 98, 27, 44, 52, 61, 19, 43, 72, 67, 41, 94, 55]\n",
       " [26, 27, 62, 87, 18, 75, 86]"
      ]
     },
     "metadata": {},
     "output_type": "display_data"
    }
   ],
   "source": [
    "pages = broadcast.(x->parse(Int,x),split.(I[findfirst((==)(\"\"),I)+1:end],\",\"))\n"
   ]
  },
  {
   "cell_type": "code",
   "execution_count": 14,
   "metadata": {},
   "outputs": [],
   "source": [
    "ordered_pairs(x) = [(x[i],x[j]) for i in eachindex(x) for j in i+1:length(x)];"
   ]
  },
  {
   "cell_type": "code",
   "execution_count": 15,
   "metadata": {},
   "outputs": [
    {
     "data": {
      "text/plain": [
       "4135"
      ]
     },
     "metadata": {},
     "output_type": "display_data"
    }
   ],
   "source": [
    "correct_pages = pages[all.(broadcast.(!oopsie,(ordered_pairs.(pages))))]\n",
    "sum((x->x[(begin+end) ÷ 2]).(correct_pages))"
   ]
  },
  {
   "cell_type": "code",
   "execution_count": 16,
   "metadata": {},
   "outputs": [],
   "source": [
    "free(x,l) = all((!oopsie).([(x,a) for a in l]))\n",
    "function order!(c)\n",
    "    for i in eachindex(c)\n",
    "        j = findlast(x->free(x,c[i:end]), c[i:end])+(i-1)\n",
    "        c[i], c[j] = c[j], c[i]\n",
    "    end\n",
    "end;"
   ]
  },
  {
   "cell_type": "code",
   "execution_count": 17,
   "metadata": {},
   "outputs": [
    {
     "data": {
      "text/plain": [
       "5285"
      ]
     },
     "metadata": {},
     "output_type": "display_data"
    }
   ],
   "source": [
    "incorrect_pages = pages[any.(broadcast.(oopsie,(ordered_pairs.(pages))))]\n",
    "order!.(incorrect_pages)\n",
    "sum((x->x[(end+begin) ÷ 2]).(incorrect_pages))"
   ]
  }
 ],
 "metadata": {
  "kernelspec": {
   "display_name": "Julia 1.11.1",
   "language": "julia",
   "name": "julia-1.11"
  },
  "language_info": {
   "file_extension": ".jl",
   "mimetype": "application/julia",
   "name": "julia",
   "version": "1.11.1"
  }
 },
 "nbformat": 4,
 "nbformat_minor": 2
}
