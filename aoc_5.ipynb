{
 "cells": [
  {
   "cell_type": "code",
   "execution_count": 190,
   "metadata": {},
   "outputs": [],
   "source": [
    "I = readlines(open(\"input\"));"
   ]
  },
  {
   "cell_type": "code",
   "execution_count": 191,
   "metadata": {},
   "outputs": [
    {
     "data": {
      "text/plain": [
       "2×1176 Matrix{Int64}:\n",
       " 88  44  44  29  29  29  19  19  19  …  55  55  55  38  38  38  24  24  21\n",
       " 12  33  26  91  23  84  17  84  53     53  83  33  87  12  35  61  42  27"
      ]
     },
     "metadata": {},
     "output_type": "display_data"
    }
   ],
   "source": [
    "rules = parse.(Int,stack(split.(I[begin:findfirst((==)(\"\"),I)-1],\"|\")))"
   ]
  },
  {
   "cell_type": "code",
   "execution_count": 193,
   "metadata": {},
   "outputs": [],
   "source": [
    "break_rules = Dict(i=>rules[1,rules[2,:].==i] for i in unique(rules))\n",
    "oopsie(x) = x[2] in break_rules[x[1]];"
   ]
  },
  {
   "cell_type": "code",
   "execution_count": 200,
   "metadata": {},
   "outputs": [],
   "source": [
    "pages = broadcast.(x->parse(Int,x),split.(I[findfirst((==)(\"\"),I)+1:end],\",\"));\n"
   ]
  },
  {
   "cell_type": "code",
   "execution_count": 201,
   "metadata": {},
   "outputs": [],
   "source": [
    "ordered_pairs(x) = [(x[i],x[j]) for i in eachindex(x) for j in i+1:length(x)];"
   ]
  },
  {
   "cell_type": "code",
   "execution_count": 202,
   "metadata": {},
   "outputs": [
    {
     "data": {
      "text/plain": [
       "4135"
      ]
     },
     "metadata": {},
     "output_type": "display_data"
    }
   ],
   "source": [
    "correct_pages = pages[all.(broadcast.(!oopsie,(ordered_pairs.(pages))))]\n",
    "sum((x->x[(begin+end) ÷ 2]).(correct_pages))"
   ]
  },
  {
   "cell_type": "code",
   "execution_count": 203,
   "metadata": {},
   "outputs": [],
   "source": [
    "free(x,l) = all((!oopsie).([(x,a) for a in l]))\n",
    "function order!(c)\n",
    "    for i in eachindex(c)\n",
    "        j = findlast(x->free(x,c[i:end]), c[i:end])+(i-1)\n",
    "        c[i], c[j] = c[j], c[i]\n",
    "    end\n",
    "end;"
   ]
  },
  {
   "cell_type": "code",
   "execution_count": 204,
   "metadata": {},
   "outputs": [
    {
     "data": {
      "text/plain": [
       "5285"
      ]
     },
     "metadata": {},
     "output_type": "display_data"
    }
   ],
   "source": [
    "incorrect_pages = pages[any.(broadcast.(oopsie,(ordered_pairs.(pages))))]\n",
    "order!.(incorrect_pages)\n",
    "sum((x->x[(end+begin) ÷ 2]).(incorrect_pages))"
   ]
  }
 ],
 "metadata": {
  "kernelspec": {
   "display_name": "Julia 1.11.1",
   "language": "julia",
   "name": "julia-1.11"
  },
  "language_info": {
   "file_extension": ".jl",
   "mimetype": "application/julia",
   "name": "julia",
   "version": "1.11.1"
  }
 },
 "nbformat": 4,
 "nbformat_minor": 2
}
