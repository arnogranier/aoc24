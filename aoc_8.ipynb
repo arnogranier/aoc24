{
 "cells": [
  {
   "cell_type": "code",
   "execution_count": 103,
   "metadata": {},
   "outputs": [
    {
     "data": {
      "text/plain": [
       "50×50 Matrix{Char}:\n",
       " '.'  '.'  '.'  '.'  '.'  '.'  '.'  '.'  …  '.'  '.'  '.'  '.'  '.'  '.'  '.'\n",
       " '.'  '.'  '.'  '.'  '.'  '.'  '.'  '.'     '.'  '.'  '.'  '.'  '.'  '.'  '.'\n",
       " '.'  '.'  '.'  '.'  '.'  '.'  '.'  '.'     '.'  '.'  '.'  '.'  '.'  '.'  '.'\n",
       " '.'  '.'  '.'  '.'  '.'  '.'  '.'  '.'     '.'  'e'  '.'  '.'  '.'  '.'  '.'\n",
       " '.'  '.'  '.'  '.'  '.'  '.'  '.'  '.'     '.'  '.'  '.'  '.'  '.'  '.'  '.'\n",
       " '.'  '.'  '.'  '.'  '.'  '.'  '.'  '.'  …  '.'  '.'  '.'  '.'  'A'  '.'  '.'\n",
       " '.'  '.'  '.'  '.'  '.'  '.'  '.'  '.'     '.'  '.'  '.'  '.'  '.'  '.'  '.'\n",
       " '.'  '.'  '.'  '.'  '.'  '.'  '.'  '.'     '.'  '.'  '.'  '.'  '.'  '.'  '.'\n",
       " '.'  '.'  'E'  '.'  '.'  '.'  '.'  '.'     '.'  '.'  '.'  '.'  '.'  '.'  '.'\n",
       " '.'  '.'  '.'  '.'  '.'  '.'  '.'  '.'     '.'  '.'  '.'  '.'  '.'  '.'  '.'\n",
       " ⋮                        ⋮              ⋱            ⋮                   \n",
       " '.'  '.'  '.'  '.'  '.'  '.'  '.'  '8'     '.'  'L'  '.'  '.'  '.'  '.'  '.'\n",
       " 'N'  '.'  '.'  '.'  '.'  '.'  '.'  '.'     '.'  '.'  '.'  '.'  '.'  '.'  '.'\n",
       " '.'  '.'  '.'  '.'  '.'  '.'  '.'  '.'     '.'  '.'  '.'  '.'  '.'  '.'  '.'\n",
       " '.'  '.'  '.'  '.'  '.'  '5'  'Y'  '.'     '.'  'j'  '.'  '.'  '.'  '.'  '.'\n",
       " '.'  '9'  '8'  '.'  '.'  '.'  '.'  '.'  …  'S'  '.'  '.'  '.'  'L'  '.'  '.'\n",
       " '.'  '8'  '.'  '.'  '.'  '.'  '.'  '.'     '.'  '.'  '.'  '.'  '.'  '.'  '.'\n",
       " '.'  '.'  '.'  '.'  '.'  '.'  '.'  '.'     '.'  '.'  '.'  '.'  '.'  '.'  '.'\n",
       " '.'  '.'  '.'  'E'  '.'  '.'  '.'  '.'     '.'  '.'  '.'  'L'  '.'  '.'  'u'\n",
       " '.'  '.'  '.'  '.'  '.'  'D'  '.'  '.'     '.'  '.'  '.'  '.'  '.'  'S'  '.'"
      ]
     },
     "metadata": {},
     "output_type": "display_data"
    }
   ],
   "source": [
    "I = only.(mapreduce(permutedims, vcat, (split.(readlines(open(\"input\")), \"\"))))"
   ]
  },
  {
   "cell_type": "code",
   "execution_count": 107,
   "metadata": {},
   "outputs": [
    {
     "data": {
      "text/plain": [
       "60-element Vector{Vector{CartesianIndex{2}}}:\n",
       " [CartesianIndex(17, 1), CartesianIndex(13, 2), CartesianIndex(14, 11), CartesianIndex(18, 16)]\n",
       " [CartesianIndex(21, 1), CartesianIndex(16, 3), CartesianIndex(23, 14), CartesianIndex(28, 16)]\n",
       " [CartesianIndex(22, 1), CartesianIndex(39, 10), CartesianIndex(25, 11)]\n",
       " [CartesianIndex(29, 1), CartesianIndex(28, 2), CartesianIndex(18, 13)]\n",
       " [CartesianIndex(43, 1), CartesianIndex(31, 12), CartesianIndex(44, 13), CartesianIndex(42, 18)]\n",
       " [CartesianIndex(17, 2), CartesianIndex(34, 9), CartesianIndex(43, 13), CartesianIndex(40, 20)]\n",
       " [CartesianIndex(26, 2), CartesianIndex(9, 3), CartesianIndex(49, 4), CartesianIndex(24, 5)]\n",
       " [CartesianIndex(46, 2), CartesianIndex(27, 11), CartesianIndex(25, 12), CartesianIndex(32, 13)]\n",
       " [CartesianIndex(47, 2), CartesianIndex(46, 3), CartesianIndex(42, 8), CartesianIndex(39, 9)]\n",
       " [CartesianIndex(21, 3), CartesianIndex(19, 4), CartesianIndex(18, 10), CartesianIndex(20, 27)]\n",
       " ⋮\n",
       " [CartesianIndex(10, 37), CartesianIndex(11, 41), CartesianIndex(7, 42), CartesianIndex(6, 48)]\n",
       " [CartesianIndex(30, 37), CartesianIndex(28, 40), CartesianIndex(35, 44), CartesianIndex(45, 45)]\n",
       " [CartesianIndex(22, 38), CartesianIndex(13, 45), CartesianIndex(18, 49)]\n",
       " [CartesianIndex(42, 38), CartesianIndex(32, 47), CartesianIndex(23, 48), CartesianIndex(37, 49)]\n",
       " [CartesianIndex(27, 39), CartesianIndex(24, 43), CartesianIndex(25, 48), CartesianIndex(32, 50)]\n",
       " [CartesianIndex(36, 39), CartesianIndex(25, 41), CartesianIndex(35, 42), CartesianIndex(26, 50)]\n",
       " [CartesianIndex(36, 42), CartesianIndex(31, 43), CartesianIndex(29, 46), CartesianIndex(30, 49)]\n",
       " [CartesianIndex(41, 42), CartesianIndex(42, 45), CartesianIndex(49, 47), CartesianIndex(46, 48)]\n",
       " [CartesianIndex(39, 45), CartesianIndex(37, 46), CartesianIndex(30, 47), CartesianIndex(28, 50)]"
      ]
     },
     "metadata": {},
     "output_type": "display_data"
    }
   ],
   "source": [
    "inbounds(i) = (1<=i[1]<=size(I,1)) && (1<=i[2]<=size(I,2))\n",
    "idxs = [findall(I.==c) for c in unique(I) if c != '.']"
   ]
  },
  {
   "cell_type": "code",
   "execution_count": null,
   "metadata": {},
   "outputs": [
    {
     "data": {
      "text/plain": [
       "357"
      ]
     },
     "metadata": {},
     "output_type": "display_data"
    }
   ],
   "source": [
    "antinode(a,b) = 2*b-a\n",
    "length(unique(reduce(vcat,(filter.(inbounds,[[antinode(a,b) for a in v, b in v if a != b] for v in idxs])))))"
   ]
  },
  {
   "cell_type": "code",
   "execution_count": 106,
   "metadata": {},
   "outputs": [
    {
     "data": {
      "text/plain": [
       "1266"
      ]
     },
     "metadata": {},
     "output_type": "display_data"
    }
   ],
   "source": [
    "antinodes(a,b) = filter(inbounds,[b+k*(b-a) for k in -size(I,1):size(I,1)])\n",
    "length(unique(reduce(vcat,[reduce(vcat,[antinodes(a,b) for a in v, b in v if a != b]) for v in idxs])))"
   ]
  }
 ],
 "metadata": {
  "kernelspec": {
   "display_name": "Julia 1.11.1",
   "language": "julia",
   "name": "julia-1.11"
  },
  "language_info": {
   "file_extension": ".jl",
   "mimetype": "application/julia",
   "name": "julia",
   "version": "1.11.1"
  }
 },
 "nbformat": 4,
 "nbformat_minor": 2
}
