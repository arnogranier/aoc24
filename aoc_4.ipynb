{
 "cells": [
  {
   "cell_type": "code",
   "execution_count": 1,
   "metadata": {},
   "outputs": [
    {
     "data": {
      "text/plain": [
       "140×140 Matrix{SubString{String}}:\n",
       " \"S\"  \"M\"  \"X\"  \"S\"  \"X\"  \"S\"  \"X\"  \"S\"  …  \"M\"  \"S\"  \"X\"  \"S\"  \"A\"  \"M\"  \"X\"\n",
       " \"A\"  \"X\"  \"S\"  \"M\"  \"M\"  \"S\"  \"A\"  \"M\"     \"M\"  \"A\"  \"S\"  \"X\"  \"X\"  \"M\"  \"X\"\n",
       " \"X\"  \"X\"  \"X\"  \"A\"  \"A\"  \"X\"  \"A\"  \"M\"     \"M\"  \"M\"  \"M\"  \"X\"  \"A\"  \"M\"  \"X\"\n",
       " \"M\"  \"A\"  \"M\"  \"M\"  \"M\"  \"S\"  \"A\"  \"M\"     \"A\"  \"X\"  \"X\"  \"S\"  \"A\"  \"M\"  \"X\"\n",
       " \"A\"  \"A\"  \"A\"  \"A\"  \"A\"  \"X\"  \"A\"  \"M\"     \"X\"  \"M\"  \"A\"  \"A\"  \"A\"  \"S\"  \"M\"\n",
       " \"S\"  \"M\"  \"S\"  \"S\"  \"X\"  \"M\"  \"M\"  \"M\"  …  \"A\"  \"M\"  \"X\"  \"M\"  \"M\"  \"M\"  \"A\"\n",
       " \"M\"  \"A\"  \"X\"  \"M\"  \"X\"  \"M\"  \"S\"  \"A\"     \"M\"  \"M\"  \"A\"  \"M\"  \"A\"  \"X\"  \"M\"\n",
       " \"M\"  \"A\"  \"M\"  \"A\"  \"A\"  \"X\"  \"M\"  \"A\"     \"A\"  \"A\"  \"A\"  \"X\"  \"A\"  \"X\"  \"X\"\n",
       " \"M\"  \"M\"  \"M\"  \"M\"  \"M\"  \"S\"  \"M\"  \"A\"     \"M\"  \"M\"  \"X\"  \"X\"  \"S\"  \"S\"  \"M\"\n",
       " \"A\"  \"A\"  \"X\"  \"A\"  \"S\"  \"M\"  \"M\"  \"S\"     \"A\"  \"A\"  \"X\"  \"X\"  \"M\"  \"A\"  \"A\"\n",
       " ⋮                        ⋮              ⋱            ⋮                   \n",
       " \"S\"  \"M\"  \"M\"  \"M\"  \"S\"  \"X\"  \"X\"  \"A\"     \"S\"  \"S\"  \"M\"  \"M\"  \"M\"  \"A\"  \"M\"\n",
       " \"A\"  \"A\"  \"A\"  \"A\"  \"X\"  \"X\"  \"S\"  \"M\"     \"A\"  \"A\"  \"A\"  \"M\"  \"S\"  \"A\"  \"S\"\n",
       " \"X\"  \"M\"  \"M\"  \"A\"  \"S\"  \"M\"  \"A\"  \"M\"     \"S\"  \"M\"  \"X\"  \"X\"  \"S\"  \"A\"  \"S\"\n",
       " \"S\"  \"X\"  \"S\"  \"X\"  \"M\"  \"A\"  \"A\"  \"S\"     \"M\"  \"M\"  \"S\"  \"M\"  \"M\"  \"A\"  \"M\"\n",
       " \"A\"  \"A\"  \"X\"  \"A\"  \"M\"  \"S\"  \"X\"  \"X\"  …  \"M\"  \"A\"  \"M\"  \"A\"  \"A\"  \"M\"  \"X\"\n",
       " \"M\"  \"M\"  \"M\"  \"S\"  \"M\"  \"X\"  \"A\"  \"X\"     \"M\"  \"S\"  \"S\"  \"X\"  \"M\"  \"S\"  \"A\"\n",
       " \"X\"  \"X\"  \"A\"  \"A\"  \"A\"  \"M\"  \"A\"  \"M\"     \"A\"  \"M\"  \"M\"  \"X\"  \"M\"  \"A\"  \"X\"\n",
       " \"M\"  \"A\"  \"S\"  \"M\"  \"X\"  \"M\"  \"A\"  \"S\"     \"A\"  \"S\"  \"A\"  \"M\"  \"X\"  \"A\"  \"S\"\n",
       " \"X\"  \"M\"  \"A\"  \"S\"  \"X\"  \"S\"  \"X\"  \"M\"     \"A\"  \"S\"  \"A\"  \"X\"  \"M\"  \"A\"  \"S\""
      ]
     },
     "metadata": {},
     "output_type": "display_data"
    }
   ],
   "source": [
    "I = stack(split.(readlines(open(\"input\")), \"\"))"
   ]
  },
  {
   "cell_type": "code",
   "execution_count": 2,
   "metadata": {},
   "outputs": [],
   "source": [
    "rows = [I[i:i+3,j] for i in 1:size(I,1)-3 for j in 1:size(I,2)]\n",
    "cols = [I[i,j:j+3] for i in 1:size(I,1) for j in 1:size(I,2)-3]\n",
    "diag1 = [I[[CartesianIndex(i+d,j+d) for d in 0:3]] for i in 1:size(I,1)-3 for j in 1:size(I,2)-3]\n",
    "diag2 = [I[[CartesianIndex(i-d,j+d) for d in 0:3]] for i in 4:size(I,1) for j in 1:size(I,2)-3];\n",
    "squares = [I[i:i+2,j:j+2] for i in 1:size(I,1)-2 for j in 1:size(I,2)-2];"
   ]
  },
  {
   "cell_type": "code",
   "execution_count": null,
   "metadata": {},
   "outputs": [],
   "source": [
    "is_xmas(s) = s==split(\"XMAS\",\"\") || s==reverse(split(\"XMAS\",\"\"));\n",
    "is_mas(s) = s==split(\"MAS\",\"\") || s==reverse(split(\"MAS\",\"\"));\n",
    "is_X_mas(s) = (is_mas(s[CartesianIndex.(axes(s,1),axes(s,2))]) \n",
    "            && is_mas(s[CartesianIndex.(axes(s,1),reverse(axes(s,2)))]));"
   ]
  },
  {
   "cell_type": "code",
   "execution_count": 4,
   "metadata": {},
   "outputs": [
    {
     "data": {
      "text/plain": [
       "2633"
      ]
     },
     "metadata": {},
     "output_type": "display_data"
    }
   ],
   "source": [
    "sum(is_xmas.(vcat(rows, cols, diag1, diag2)))"
   ]
  },
  {
   "cell_type": "code",
   "execution_count": 5,
   "metadata": {},
   "outputs": [
    {
     "data": {
      "text/plain": [
       "1936"
      ]
     },
     "metadata": {},
     "output_type": "display_data"
    }
   ],
   "source": [
    "sum(is_X_mas.(squares))"
   ]
  }
 ],
 "metadata": {
  "kernelspec": {
   "display_name": "Julia 1.11.1",
   "language": "julia",
   "name": "julia-1.11"
  },
  "language_info": {
   "file_extension": ".jl",
   "mimetype": "application/julia",
   "name": "julia",
   "version": "1.11.1"
  }
 },
 "nbformat": 4,
 "nbformat_minor": 2
}
