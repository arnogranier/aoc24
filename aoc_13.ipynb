{
 "cells": [
  {
   "cell_type": "code",
   "execution_count": 234,
   "metadata": {},
   "outputs": [
    {
     "data": {
      "text/plain": [
       "320-element Vector{Vector{Tuple{Int64, Int64}}}:\n",
       " [(11, 67), (17, 16), (2413, 6293)]\n",
       " [(22, 48), (43, 21), (3637, 10139)]\n",
       " [(23, 12), (31, 99), (3660, 8370)]\n",
       " [(11, 27), (62, 11), (17345, 17180)]\n",
       " [(45, 17), (15, 49), (13745, 15517)]\n",
       " [(64, 35), (12, 36), (2524, 4251)]\n",
       " [(21, 48), (40, 17), (5881, 14712)]\n",
       " [(45, 11), (12, 61), (959, 11016)]\n",
       " [(85, 33), (33, 59), (5586, 2492)]\n",
       " [(25, 45), (66, 29), (2842, 4038)]\n",
       " ⋮\n",
       " [(20, 82), (84, 51), (5844, 4596)]\n",
       " [(18, 68), (82, 76), (7520, 8304)]\n",
       " [(12, 60), (99, 63), (6993, 7749)]\n",
       " [(43, 17), (35, 59), (374, 12314)]\n",
       " [(78, 33), (41, 97), (1588, 1787)]\n",
       " [(92, 80), (11, 63), (7158, 10606)]\n",
       " [(69, 42), (25, 60), (4579, 5922)]\n",
       " [(92, 35), (45, 87), (9989, 9740)]\n",
       " [(50, 14), (16, 62), (2112, 994)]"
      ]
     },
     "metadata": {},
     "output_type": "display_data"
    }
   ],
   "source": [
    "I = readlines(open(\"input\"))\n",
    "machines = [I[1+i:3+i] for i in 0:4:length(I)-1]\n",
    "function parse(e)\n",
    "    v = split(split(e, \": \")[2], \", \")\n",
    "    Base.parse(Int,v[1][3:end]), Base.parse(Int,v[2][3:end])\n",
    "end\n",
    "machines = [parse.(m) for m in machines]"
   ]
  },
  {
   "cell_type": "code",
   "execution_count": 224,
   "metadata": {},
   "outputs": [
    {
     "data": {
      "text/plain": [
       "320-element Vector{Vector{Tuple{Int64, Int64}}}:\n",
       " [(11, 67), (17, 16), (10000000002413, 10000000006293)]\n",
       " [(22, 48), (43, 21), (10000000003637, 10000000010139)]\n",
       " [(23, 12), (31, 99), (10000000003660, 10000000008370)]\n",
       " [(11, 27), (62, 11), (10000000017345, 10000000017180)]\n",
       " [(45, 17), (15, 49), (10000000013745, 10000000015517)]\n",
       " [(64, 35), (12, 36), (10000000002524, 10000000004251)]\n",
       " [(21, 48), (40, 17), (10000000005881, 10000000014712)]\n",
       " [(45, 11), (12, 61), (10000000000959, 10000000011016)]\n",
       " [(85, 33), (33, 59), (10000000005586, 10000000002492)]\n",
       " [(25, 45), (66, 29), (10000000002842, 10000000004038)]\n",
       " ⋮\n",
       " [(20, 82), (84, 51), (10000000005844, 10000000004596)]\n",
       " [(18, 68), (82, 76), (10000000007520, 10000000008304)]\n",
       " [(12, 60), (99, 63), (10000000006993, 10000000007749)]\n",
       " [(43, 17), (35, 59), (10000000000374, 10000000012314)]\n",
       " [(78, 33), (41, 97), (10000000001588, 10000000001787)]\n",
       " [(92, 80), (11, 63), (10000000007158, 10000000010606)]\n",
       " [(69, 42), (25, 60), (10000000004579, 10000000005922)]\n",
       " [(92, 35), (45, 87), (10000000009989, 10000000009740)]\n",
       " [(50, 14), (16, 62), (10000000002112, 10000000000994)]"
      ]
     },
     "metadata": {},
     "output_type": "display_data"
    }
   ],
   "source": [
    "for m in machines\n",
    "    m[3] = (m[3][1]+10000000000000, m[3][2]+10000000000000)\n",
    "end\n",
    "machines"
   ]
  },
  {
   "cell_type": "code",
   "execution_count": 235,
   "metadata": {},
   "outputs": [
    {
     "data": {
      "text/plain": [
       "is_mult (generic function with 1 method)"
      ]
     },
     "metadata": {},
     "output_type": "display_data"
    }
   ],
   "source": [
    "is_mult(x,y) = (x <= y) ? y % x == 0 : x % y == 0"
   ]
  },
  {
   "cell_type": "code",
   "execution_count": 236,
   "metadata": {},
   "outputs": [
    {
     "data": {
      "text/plain": [
       "check_machine (generic function with 1 method)"
      ]
     },
     "metadata": {},
     "output_type": "display_data"
    }
   ],
   "source": [
    "function check_machine((a, c), (b, d), (N, M);bound=true)\n",
    "    is_mult(a,c) && is_mult(b,d) && !is_mult(N,M) && return nothing\n",
    "    y = (1/(d-c*b/a))*(M-c*N/a)\n",
    "    x = (N-b*y)/a\n",
    "    bound && (x > 100 || y > 100) && return nothing\n",
    "    return (abs(x-round(x))<1e-3 && abs(y-round(y))<1e-3) ? (round(x), round(y)) : nothing\n",
    "end"
   ]
  },
  {
   "cell_type": "code",
   "execution_count": 237,
   "metadata": {},
   "outputs": [
    {
     "data": {
      "text/plain": [
       "183-element Vector{Union{Nothing, Tuple{Float64, Float64}}}:\n",
       " (71.0, 96.0)\n",
       " (54.0, 78.0)\n",
       " (63.0, 7.0)\n",
       " (82.0, 12.0)\n",
       " (61.0, 47.0)\n",
       " (5.0, 4.0)\n",
       " (89.0, 82.0)\n",
       " (38.0, 80.0)\n",
       " (84.0, 51.0)\n",
       " (97.0, 75.0)\n",
       " ⋮\n",
       " (68.0, 83.0)\n",
       " (15.0, 66.0)\n",
       " (26.0, 86.0)\n",
       " (63.0, 63.0)\n",
       " (13.0, 14.0)\n",
       " (68.0, 82.0)\n",
       " (41.0, 70.0)\n",
       " (67.0, 85.0)\n",
       " (40.0, 7.0)"
      ]
     },
     "metadata": {},
     "output_type": "display_data"
    }
   ],
   "source": [
    "r = (m->check_machine(m...,bound=true)).(machines)\n",
    "r = filter(!isnothing, r)"
   ]
  },
  {
   "cell_type": "code",
   "execution_count": 238,
   "metadata": {},
   "outputs": [
    {
     "data": {
      "text/plain": [
       "37901"
      ]
     },
     "metadata": {},
     "output_type": "display_data"
    }
   ],
   "source": [
    "score = Int(sum([3*a+1*b for (a,b) in r]))"
   ]
  }
 ],
 "metadata": {
  "kernelspec": {
   "display_name": "Julia 1.11.1",
   "language": "julia",
   "name": "julia-1.11"
  },
  "language_info": {
   "file_extension": ".jl",
   "mimetype": "application/julia",
   "name": "julia",
   "version": "1.11.1"
  }
 },
 "nbformat": 4,
 "nbformat_minor": 2
}
