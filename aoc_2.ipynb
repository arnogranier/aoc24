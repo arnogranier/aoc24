{
 "cells": [
  {
   "cell_type": "code",
   "execution_count": 2,
   "metadata": {},
   "outputs": [
    {
     "data": {
      "text/plain": [
       "1000-element Vector{Vector{Int64}}:\n",
       " [16, 18, 20, 22, 23, 22]\n",
       " [9, 10, 12, 13, 13]\n",
       " [64, 67, 69, 70, 74]\n",
       " [55, 57, 59, 61, 62, 65, 68, 75]\n",
       " [8, 11, 9, 11, 14]\n",
       " [78, 81, 78, 80, 81, 83, 85, 83]\n",
       " [67, 69, 66, 67, 67]\n",
       " [60, 61, 62, 60, 64]\n",
       " [63, 65, 68, 70, 72, 75, 72, 79]\n",
       " [44, 47, 47, 49, 50, 53, 55]\n",
       " ⋮\n",
       " [23, 26, 29, 32, 33, 35, 38]\n",
       " [82, 80, 79, 76, 73, 70, 67, 66]\n",
       " [52, 55, 56, 59, 61, 64]\n",
       " [68, 71, 74, 76, 78]\n",
       " [66, 65, 63, 60, 58, 55, 53, 50]\n",
       " [68, 70, 71, 73, 75, 78, 80]\n",
       " [61, 58, 57, 54, 52, 49, 47, 46]\n",
       " [31, 33, 34, 37, 38]\n",
       " [87, 85, 83, 82, 79]"
      ]
     },
     "metadata": {},
     "output_type": "display_data"
    }
   ],
   "source": [
    "I = broadcast.(x->parse(Int,x),split.(readlines(open(\"input\")), \" \"))"
   ]
  },
  {
   "cell_type": "code",
   "execution_count": 3,
   "metadata": {},
   "outputs": [],
   "source": [
    "check = x -> (issorted(x) || issorted(reverse(x))) && all(1 .<= abs.(x[begin:end-1]-x[begin+1:end]) .<= 3);"
   ]
  },
  {
   "cell_type": "code",
   "execution_count": 4,
   "metadata": {},
   "outputs": [
    {
     "data": {
      "text/plain": [
       "606"
      ]
     },
     "metadata": {},
     "output_type": "display_data"
    }
   ],
   "source": [
    "sum(check.(I))"
   ]
  },
  {
   "cell_type": "code",
   "execution_count": 6,
   "metadata": {},
   "outputs": [
    {
     "data": {
      "text/plain": [
       "644"
      ]
     },
     "metadata": {},
     "output_type": "display_data"
    }
   ],
   "source": [
    "all_possible_delete_one = x -> [vcat(x[begin:i-1],x[i+1:end]) for i in 1:length(x)]\n",
    "sum((x -> any(check(e) for e in all_possible_delete_one(x))).(I))"
   ]
  }
 ],
 "metadata": {
  "kernelspec": {
   "display_name": "Julia 1.11.1",
   "language": "julia",
   "name": "julia-1.11"
  },
  "language_info": {
   "file_extension": ".jl",
   "mimetype": "application/julia",
   "name": "julia",
   "version": "1.11.1"
  }
 },
 "nbformat": 4,
 "nbformat_minor": 2
}
