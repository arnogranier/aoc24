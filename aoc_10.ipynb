{
 "cells": [
  {
   "cell_type": "code",
   "execution_count": 105,
   "metadata": {},
   "outputs": [
    {
     "data": {
      "text/plain": [
       "52×52 Matrix{Int64}:\n",
       " 7  6  5  1  2  3  4  5  1  0  1  0  3  …  5  4  4  5  6  7  6  7  6  5  4  5\n",
       " 8  3  4  0  9  8  7  6  4  3  2  1  2     6  5  5  4  3  8  5  8  5  4  3  2\n",
       " 9  2  0  5  6  7  6  5  4  4  5  6  9     7  1  0  1  2  9  8  9  1  2  0  1\n",
       " 0  1  1  4  3  2  3  4  5  6  6  7  8     8  7  8  7  7  8  1  0  0  3  2  3\n",
       " 1  0  2  3  2  1  0  9  8  7  8  9  7     9  0  9  6  8  9  0  1  1  4  1  4\n",
       " 4  3  2  1  3  0  1  0  1  0  7  6  7  …  2  1  8  5  7  4  3  2  6  5  0  5\n",
       " 5  6  5  0  4  5  2  1  2  1  4  5  6     1  2  3  4  6  5  4  6  7  8  7  6\n",
       " 4  7  8  1  9  6  5  4  3  2  3  4  8     0  1  9  8  9  4  8  9  4  9  6  6\n",
       " 9  8  9  0  8  7  4  3  2  1  0  8  9     3  2  0  7  6  7  7  4  3  9  8  7\n",
       " 0  7  8  1  1  0  3  0  1  6  5  6  7     2  2  1  6  7  8  6  5  2  1  5  6\n",
       " ⋮              ⋮              ⋮        ⋱  ⋮              ⋮              ⋮  \n",
       " 5  4  9  6  5  8  7  1  5  6  7  8  2     8  7  4  0  6  5  4  3  2  2  3  4\n",
       " 0  3  8  1  0  1  6  0  4  5  0  7  1     1  2  3  6  7  8  3  2  1  1  0  1\n",
       " 1  2  7  2  3  2  5  4  3  2  1  0  1  …  2  3  4  3  4  9  8  3  0  7  6  5\n",
       " 0  3  6  5  4  3  0  3  4  0  3  4  2     6  4  1  2  5  6  5  4  5  8  5  4\n",
       " 6  6  7  4  3  2  1  2  0  1  2  5  9     4  5  0  1  2  7  8  9  4  9  0  3\n",
       " 7  8  8  9  2  1  0  3  9  8  7  6  8     3  6  1  8  9  8  7  6  5  2  1  2\n",
       " 6  9  0  1  1  6  5  4  0  9  6  9  4     2  7  6  3  4  5  6  5  4  3  0  3\n",
       " 5  4  3  2  0  7  6  2  1  0  5  8  5  …  9  8  5  4  3  2  7  8  3  2  1  2\n",
       " 4  3  4  5  1  8  9  8  2  3  4  7  6     2  3  4  3  2  1  0  9  8  1  0  1"
      ]
     },
     "metadata": {},
     "output_type": "display_data"
    }
   ],
   "source": [
    "I = (x->parse(Int,x)).(mapreduce(permutedims,vcat,(split.(readlines(open(\"input\")),\"\"))))"
   ]
  },
  {
   "cell_type": "code",
   "execution_count": 111,
   "metadata": {},
   "outputs": [],
   "source": [
    "inbounds(i) = 1 <= i[1] <= size(I,1) && 1 <= i[2] <= size(I,2)\n",
    "up, right, down, left = CartesianIndex(-1, 0), CartesianIndex(0,1), CartesianIndex(1,0), CartesianIndex(0,-1)\n",
    "increasing_by_one_neighbours(i,v) = [i+d for d in [up, right, down, left] if inbounds(i+d) && I[i+d]==v+1]\n",
    "concat(x) = (length(x)==1) ? x[1] : reduce(vcat,x);"
   ]
  },
  {
   "cell_type": "code",
   "execution_count": 107,
   "metadata": {},
   "outputs": [
    {
     "data": {
      "text/plain": [
       "score (generic function with 1 method)"
      ]
     },
     "metadata": {},
     "output_type": "display_data"
    }
   ],
   "source": [
    "function score(h;rating=false)\n",
    "    x=[h]\n",
    "    for i in 0:8\n",
    "        x=(rating ? identity : unique)(concat(increasing_by_one_neighbours.(x, i)))\n",
    "    end\n",
    "    return length(x)\n",
    "end"
   ]
  },
  {
   "cell_type": "code",
   "execution_count": 110,
   "metadata": {},
   "outputs": [
    {
     "data": {
      "text/plain": [
       "652"
      ]
     },
     "metadata": {},
     "output_type": "display_data"
    }
   ],
   "source": [
    "sum(score.(findall(I.==0)))"
   ]
  },
  {
   "cell_type": "code",
   "execution_count": null,
   "metadata": {},
   "outputs": [
    {
     "data": {
      "text/plain": [
       "1432"
      ]
     },
     "metadata": {},
     "output_type": "display_data"
    }
   ],
   "source": [
    "sum(score.(findall(I.==0), rating=true))\n",
    "    "
   ]
  }
 ],
 "metadata": {
  "kernelspec": {
   "display_name": "Julia 1.11.1",
   "language": "julia",
   "name": "julia-1.11"
  },
  "language_info": {
   "file_extension": ".jl",
   "mimetype": "application/julia",
   "name": "julia",
   "version": "1.11.1"
  }
 },
 "nbformat": 4,
 "nbformat_minor": 2
}
