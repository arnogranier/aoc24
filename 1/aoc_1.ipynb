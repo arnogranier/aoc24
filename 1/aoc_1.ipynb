{
 "cells": [
  {
   "cell_type": "code",
   "execution_count": 2,
   "metadata": {},
   "outputs": [
    {
     "data": {
      "text/plain": [
       "1000×2 adjoint(::Matrix{Int64}) with eltype Int64:\n",
       " 88450  63363\n",
       " 58674  73195\n",
       " 30431  97265\n",
       " 79176  36224\n",
       " 51071  64526\n",
       " 78115  34829\n",
       " 26281  65342\n",
       " 99747  75563\n",
       " 81068  41201\n",
       " 81760  39590\n",
       "     ⋮  \n",
       " 46731  73158\n",
       " 24112  74778\n",
       " 92034  95808\n",
       " 77157  89301\n",
       " 29215  99938\n",
       " 37580  89301\n",
       " 73593  36007\n",
       " 11075  96823\n",
       " 49084  34885"
      ]
     },
     "metadata": {},
     "output_type": "display_data"
    }
   ],
   "source": [
    "I = reduce(hcat,broadcast.(x->parse(Int,x),split.(readlines(open(\"input\")), \"   \")))'"
   ]
  },
  {
   "cell_type": "code",
   "execution_count": 4,
   "metadata": {},
   "outputs": [
    {
     "data": {
      "text/plain": [
       "2580760"
      ]
     },
     "metadata": {},
     "output_type": "display_data"
    }
   ],
   "source": [
    "sum(abs.(sort(I[:,1])-sort(I[:,2])))"
   ]
  },
  {
   "cell_type": "code",
   "execution_count": 5,
   "metadata": {},
   "outputs": [
    {
     "data": {
      "text/plain": [
       "25358365"
      ]
     },
     "metadata": {},
     "output_type": "display_data"
    }
   ],
   "source": [
    "sum([e*count((==)(e),I[:,2]) for e in unique(I[:,1])])"
   ]
  }
 ],
 "metadata": {
  "kernelspec": {
   "display_name": "Julia 1.11.1",
   "language": "julia",
   "name": "julia-1.11"
  },
  "language_info": {
   "file_extension": ".jl",
   "mimetype": "application/julia",
   "name": "julia",
   "version": "1.11.1"
  }
 },
 "nbformat": 4,
 "nbformat_minor": 2
}
