{
 "cells": [
  {
   "cell_type": "code",
   "execution_count": 40,
   "metadata": {},
   "outputs": [
    {
     "data": {
      "text/plain": [
       "141×141 Matrix{Char}:\n",
       " '#'  '#'  '#'  '#'  '#'  '#'  '#'  '#'  …  '#'  '#'  '#'  '#'  '#'  '#'  '#'\n",
       " '#'  '.'  '.'  '.'  '.'  '.'  '#'  '.'     '#'  '.'  '.'  '.'  '.'  'E'  '#'\n",
       " '#'  '.'  '#'  '.'  '#'  '.'  '#'  '.'     '#'  '.'  '#'  '#'  '#'  '.'  '#'\n",
       " '#'  '.'  '#'  '.'  '#'  '.'  '.'  '.'     '#'  '.'  '.'  '.'  '#'  '.'  '#'\n",
       " '#'  '.'  '#'  '#'  '#'  '.'  '#'  '#'     '#'  '#'  '#'  '.'  '#'  '.'  '#'\n",
       " '#'  '.'  '.'  '.'  '#'  '.'  '#'  '.'  …  '.'  '.'  '#'  '.'  '#'  '.'  '#'\n",
       " '#'  '.'  '#'  '.'  '#'  '.'  '#'  '.'     '#'  '.'  '#'  '#'  '#'  '.'  '#'\n",
       " '#'  '.'  '#'  '.'  '#'  '.'  '.'  '.'     '#'  '.'  '.'  '.'  '.'  '.'  '#'\n",
       " '#'  '.'  '#'  '.'  '#'  '.'  '#'  '#'     '#'  '#'  '#'  '#'  '#'  '.'  '#'\n",
       " '#'  '.'  '#'  '.'  '#'  '.'  '.'  '.'     '#'  '.'  '.'  '.'  '#'  '.'  '#'\n",
       " ⋮                        ⋮              ⋱       ⋮                        ⋮\n",
       " '#'  '#'  '#'  '.'  '#'  '#'  '#'  '.'     '#'  '#'  '#'  '#'  '#'  '#'  '#'\n",
       " '#'  '.'  '.'  '.'  '#'  '.'  '.'  '.'     '#'  '.'  '#'  '.'  '.'  '.'  '#'\n",
       " '#'  '.'  '#'  '#'  '#'  '.'  '#'  '.'     '#'  '.'  '#'  '.'  '#'  '.'  '#'\n",
       " '#'  '.'  '#'  '.'  '.'  '.'  '#'  '.'  …  '#'  '.'  '.'  '.'  '#'  '.'  '#'\n",
       " '#'  '.'  '#'  '.'  '#'  '#'  '#'  '#'     '#'  '#'  '#'  '#'  '#'  '.'  '#'\n",
       " '#'  '.'  '.'  '.'  '#'  '.'  '.'  '.'     '.'  '.'  '.'  '.'  '.'  '.'  '#'\n",
       " '#'  '.'  '#'  '#'  '#'  '.'  '#'  '.'     '#'  '#'  '#'  '#'  '#'  '.'  '#'\n",
       " '#'  'S'  '.'  '.'  '.'  '.'  '#'  '.'     '.'  '.'  '.'  '.'  '.'  '.'  '#'\n",
       " '#'  '#'  '#'  '#'  '#'  '#'  '#'  '#'  …  '#'  '#'  '#'  '#'  '#'  '#'  '#'"
      ]
     },
     "metadata": {},
     "output_type": "display_data"
    }
   ],
   "source": [
    "I = only.(mapreduce(permutedims, vcat, split.(readlines(open(\"input\")), \"\")))"
   ]
  },
  {
   "cell_type": "code",
   "execution_count": 41,
   "metadata": {},
   "outputs": [
    {
     "data": {
      "text/plain": [
       "'.': ASCII/Unicode U+002E (category Po: Punctuation, other)"
      ]
     },
     "metadata": {},
     "output_type": "display_data"
    }
   ],
   "source": [
    "start_node = findfirst(==('S'), I)\n",
    "end_node = findfirst(==('E'), I)\n",
    "I[start_node] = '.'\n",
    "I[end_node] = '.'"
   ]
  },
  {
   "cell_type": "code",
   "execution_count": 42,
   "metadata": {},
   "outputs": [],
   "source": [
    "unvisited_p::Vector{CartesianIndex} = findall(==('.'), I);"
   ]
  },
  {
   "cell_type": "code",
   "execution_count": 43,
   "metadata": {},
   "outputs": [],
   "source": [
    "up, right, down, left = CartesianIndex(-1, 0), CartesianIndex(0,1), CartesianIndex(1,0), CartesianIndex(0,-1);"
   ]
  },
  {
   "cell_type": "code",
   "execution_count": 44,
   "metadata": {},
   "outputs": [
    {
     "data": {
      "text/plain": [
       "40468-element Vector{Tuple{CartesianIndex{2}, CartesianIndex{2}}}:\n",
       " (CartesianIndex(2, 2), CartesianIndex(-1, 0))\n",
       " (CartesianIndex(3, 2), CartesianIndex(-1, 0))\n",
       " (CartesianIndex(4, 2), CartesianIndex(-1, 0))\n",
       " (CartesianIndex(5, 2), CartesianIndex(-1, 0))\n",
       " (CartesianIndex(6, 2), CartesianIndex(-1, 0))\n",
       " (CartesianIndex(7, 2), CartesianIndex(-1, 0))\n",
       " (CartesianIndex(8, 2), CartesianIndex(-1, 0))\n",
       " (CartesianIndex(9, 2), CartesianIndex(-1, 0))\n",
       " (CartesianIndex(10, 2), CartesianIndex(-1, 0))\n",
       " (CartesianIndex(11, 2), CartesianIndex(-1, 0))\n",
       " ⋮\n",
       " (CartesianIndex(131, 140), CartesianIndex(0, -1))\n",
       " (CartesianIndex(132, 140), CartesianIndex(0, -1))\n",
       " (CartesianIndex(134, 140), CartesianIndex(0, -1))\n",
       " (CartesianIndex(135, 140), CartesianIndex(0, -1))\n",
       " (CartesianIndex(136, 140), CartesianIndex(0, -1))\n",
       " (CartesianIndex(137, 140), CartesianIndex(0, -1))\n",
       " (CartesianIndex(138, 140), CartesianIndex(0, -1))\n",
       " (CartesianIndex(139, 140), CartesianIndex(0, -1))\n",
       " (CartesianIndex(140, 140), CartesianIndex(0, -1))"
      ]
     },
     "metadata": {},
     "output_type": "display_data"
    }
   ],
   "source": [
    "unvisited = [(p,d) for d in [up, right, down, left] for p in unvisited_p]"
   ]
  },
  {
   "cell_type": "code",
   "execution_count": 45,
   "metadata": {},
   "outputs": [],
   "source": [
    "values = Dict(i=>Inf for i in unvisited)\n",
    "values[(start_node,right)] = 0;"
   ]
  },
  {
   "cell_type": "code",
   "execution_count": 46,
   "metadata": {},
   "outputs": [],
   "source": [
    "c_rotate = Dict(left=>down, down=>right, right=>up, up=>left)\n",
    "cc_rotate = Dict(right=>down, down=>left, left=>up, up=>right);"
   ]
  },
  {
   "cell_type": "code",
   "execution_count": 47,
   "metadata": {},
   "outputs": [],
   "source": [
    "while !isempty(unvisited)\n",
    "    min_i = argmin([values[i] for i in unvisited])\n",
    "    curr = unvisited[min_i]\n",
    "    curr == end_node && break\n",
    "    curr_val = values[curr]\n",
    "    \n",
    "    fwd = curr[1]+curr[2]\n",
    "    if !(I[fwd] == '#' || !((fwd,curr[2]) in unvisited)) \n",
    "        if (values[curr] + 1) < values[(fwd,curr[2])] \n",
    "            values[(fwd,curr[2])] = values[curr] + 1\n",
    "        end\n",
    "    end\n",
    "    \n",
    "    if (values[curr] + 1000) < values[(curr[1], c_rotate[curr[2]])]\n",
    "        values[(curr[1], c_rotate[curr[2]])] = values[curr] + 1000\n",
    "    end\n",
    "    if (values[curr] + 1000) < values[(curr[1], cc_rotate[curr[2]])]\n",
    "        values[(curr[1], cc_rotate[curr[2]])] = values[curr] + 1000\n",
    "    end\n",
    "    \n",
    "    deleteat!(unvisited, findfirst(==(curr), unvisited));\n",
    "end"
   ]
  },
  {
   "cell_type": "code",
   "execution_count": 51,
   "metadata": {},
   "outputs": [],
   "source": [
    "M = zeros(size(I))\n",
    "for i in 1:size(I,1), j in 1:size(I,2)\n",
    "    if I[i,j] == '#'\n",
    "        M[i,j] = -1\n",
    "    else\n",
    "        M[i,j] = minimum(values[(CartesianIndex(i,j),d)] for d in [up, left, down, right])\n",
    "    end\n",
    "end"
   ]
  },
  {
   "cell_type": "code",
   "execution_count": 52,
   "metadata": {},
   "outputs": [
    {
     "data": {
      "text/plain": [
       "141×141 Matrix{Float64}:\n",
       " -1.0     -1.0     -1.0     -1.0     -1.0  …     -1.0     -1.0     -1.0  -1.0\n",
       " -1.0  44246.0  44245.0  44244.0  44243.0     90462.0  90461.0  89460.0  -1.0\n",
       " -1.0  45245.0     -1.0  45245.0     -1.0        -1.0     -1.0  89459.0  -1.0\n",
       " -1.0  45244.0     -1.0  45246.0     -1.0     92468.0     -1.0  89458.0  -1.0\n",
       " -1.0  45243.0     -1.0     -1.0     -1.0     93469.0     -1.0  89457.0  -1.0\n",
       " -1.0  45242.0  46241.0  45240.0     -1.0  …  93470.0     -1.0  89456.0  -1.0\n",
       " -1.0  45241.0     -1.0  45239.0     -1.0        -1.0     -1.0  89455.0  -1.0\n",
       " -1.0  45240.0     -1.0  45238.0     -1.0     88452.0  88453.0  88454.0  -1.0\n",
       " -1.0  45239.0     -1.0  45237.0     -1.0        -1.0     -1.0  89455.0  -1.0\n",
       " -1.0  45238.0     -1.0  45236.0     -1.0     91462.0     -1.0  89456.0  -1.0\n",
       "  ⋮                                        ⋱                              ⋮\n",
       " -1.0     -1.0     -1.0   3009.0     -1.0        -1.0     -1.0     -1.0  -1.0\n",
       " -1.0   1006.0   2007.0   2008.0     -1.0     56230.0  56229.0  55228.0  -1.0\n",
       " -1.0   1005.0     -1.0     -1.0     -1.0     57231.0     -1.0  55227.0  -1.0\n",
       " -1.0   1004.0     -1.0   3006.0   4007.0  …  57232.0     -1.0  55226.0  -1.0\n",
       " -1.0   1003.0     -1.0   3005.0     -1.0        -1.0     -1.0  55225.0  -1.0\n",
       " -1.0   1002.0   2003.0   2004.0     -1.0     56226.0  56225.0  55224.0  -1.0\n",
       " -1.0   1001.0     -1.0     -1.0     -1.0        -1.0     -1.0  55223.0  -1.0\n",
       " -1.0      0.0      1.0      2.0      3.0     54220.0  54221.0  54222.0  -1.0\n",
       " -1.0     -1.0     -1.0     -1.0     -1.0  …     -1.0     -1.0     -1.0  -1.0"
      ]
     },
     "metadata": {},
     "output_type": "display_data"
    }
   ],
   "source": [
    "M"
   ]
  },
  {
   "cell_type": "code",
   "execution_count": 50,
   "metadata": {},
   "outputs": [],
   "source": []
  }
 ],
 "metadata": {
  "kernelspec": {
   "display_name": "Julia 1.11.1",
   "language": "julia",
   "name": "julia-1.11"
  },
  "language_info": {
   "file_extension": ".jl",
   "mimetype": "application/julia",
   "name": "julia",
   "version": "1.11.1"
  }
 },
 "nbformat": 4,
 "nbformat_minor": 2
}
