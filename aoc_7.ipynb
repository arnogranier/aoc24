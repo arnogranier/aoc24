{
 "cells": [
  {
   "cell_type": "code",
   "execution_count": 67,
   "metadata": {},
   "outputs": [
    {
     "data": {
      "text/plain": [
       "850-element Vector{Int64}:\n",
       "     237649047\n",
       "    2201728328\n",
       "         35784\n",
       " 1520117759425\n",
       "      14037417\n",
       "    2089710273\n",
       "         92191\n",
       "   31902329903\n",
       "            20\n",
       "         14504\n",
       "             ⋮\n",
       " 1352849736087\n",
       "         29324\n",
       "    5614431408\n",
       "        977350\n",
       "    1204859115\n",
       "    1185746128\n",
       "       3116640\n",
       "      25015627\n",
       "      71743721"
      ]
     },
     "metadata": {},
     "output_type": "display_data"
    }
   ],
   "source": [
    "I = split.(readlines(open(\"input\")), \": \")\n",
    "R = [parse(Int,v[1]) for v in I]"
   ]
  },
  {
   "cell_type": "code",
   "execution_count": 68,
   "metadata": {},
   "outputs": [
    {
     "data": {
      "text/plain": [
       "850-element Vector{Vector{Int64}}:\n",
       " [872, 71, 84, 3, 11, 1, 2, 8, 46]\n",
       " [63, 5, 8, 511, 10, 2, 8, 99, 7]\n",
       " [9, 1, 550, 162, 7]\n",
       " [8, 220, 7, 578, 79, 86, 28]\n",
       " [799, 2, 122, 8, 8, 9, 9]\n",
       " [1, 2, 2, 2, 24, 7, 7, 21, 93, 27, 4]\n",
       " [8, 1, 77, 763, 91]\n",
       " [8, 1, 8, 39, 253, 76, 844, 61]\n",
       " [4, 7, 2, 4, 5]\n",
       " [108, 7, 6, 20, 698, 6]\n",
       " ⋮\n",
       " [95, 356, 1, 4, 973, 60, 84, 3]\n",
       " [584, 6, 5, 87, 5]\n",
       " [308, 44, 84, 411, 36, 4, 3]\n",
       " [96, 9, 8, 34, 9]\n",
       " [5, 8, 7, 2, 6, 970, 5, 5, 86, 13, 2]\n",
       " [9, 3, 58, 361, 2, 345, 4, 112]\n",
       " [70, 823, 13, 86, 40]\n",
       " [6, 453, 9, 228, 8, 719, 91]\n",
       " [18, 722, 1, 8, 552, 826, 6]"
      ]
     },
     "metadata": {},
     "output_type": "display_data"
    }
   ],
   "source": [
    "V = [(x->parse(Int,x)).(split(v[2], \" \")) for v in I]"
   ]
  },
  {
   "cell_type": "code",
   "execution_count": 69,
   "metadata": {},
   "outputs": [],
   "source": [
    "function every_results(v, f)\n",
    "    every = f(v[1], v[2])\n",
    "    for i in 3:length(v)\n",
    "        every = reduce(vcat,(x->f.(x, v[i])).(every))\n",
    "    end\n",
    "    every\n",
    "end;"
   ]
  },
  {
   "cell_type": "code",
   "execution_count": 70,
   "metadata": {},
   "outputs": [],
   "source": [
    "f2(x, y) = [x+y, x*y];\n",
    "f3(x, y) = [x+y, x*y, parse(Int,string(x) * string(y))];"
   ]
  },
  {
   "cell_type": "code",
   "execution_count": 71,
   "metadata": {},
   "outputs": [
    {
     "data": {
      "text/plain": [
       "303766880536"
      ]
     },
     "metadata": {},
     "output_type": "display_data"
    }
   ],
   "source": [
    "sum(R[((r,v)::Tuple{Int64, Vector{Int64}} -> r in v).(zip(R,every_results.(V, f2)))])"
   ]
  },
  {
   "cell_type": "code",
   "execution_count": 72,
   "metadata": {},
   "outputs": [
    {
     "data": {
      "text/plain": [
       "337041851384440"
      ]
     },
     "metadata": {},
     "output_type": "display_data"
    }
   ],
   "source": [
    "sum(R[((r,v)::Tuple{Int64, Vector{Int64}} -> r in v).(zip(R,every_results.(V, f3)))])"
   ]
  }
 ],
 "metadata": {
  "kernelspec": {
   "display_name": "Julia 1.11.1",
   "language": "julia",
   "name": "julia-1.11"
  },
  "language_info": {
   "file_extension": ".jl",
   "mimetype": "application/julia",
   "name": "julia",
   "version": "1.11.1"
  }
 },
 "nbformat": 4,
 "nbformat_minor": 2
}
