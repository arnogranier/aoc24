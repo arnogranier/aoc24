{
 "cells": [
  {
   "cell_type": "code",
   "execution_count": 1,
   "metadata": {},
   "outputs": [
    {
     "ename": "ArgumentError",
     "evalue": "ArgumentError: invalid base 10 digit 'B' in \"Button\"",
     "output_type": "error",
     "traceback": [
      "ArgumentError: invalid base 10 digit 'B' in \"Button\"\n",
      "\n",
      "Stacktrace:\n",
      "  [1] tryparse_internal(::Type{Int64}, s::SubString{String}, startpos::Int64, endpos::Int64, base_::Int64, raise::Bool)\n",
      "    @ Base ./parse.jl:143\n",
      "  [2] parse(::Type{Int64}, s::SubString{String}; base::Nothing)\n",
      "    @ Base ./parse.jl:254\n",
      "  [3] parse\n",
      "    @ ./parse.jl:253 [inlined]\n",
      "  [4] #11\n",
      "    @ ~/adventofcode/jl_notebook_cell_df34fa98e69747e1a8f8a730347b8e2f_W0sZmlsZQ==.jl:1 [inlined]\n",
      "  [5] _broadcast_getindex_evalf\n",
      "    @ ./broadcast.jl:673 [inlined]\n",
      "  [6] _broadcast_getindex\n",
      "    @ ./broadcast.jl:646 [inlined]\n",
      "  [7] getindex\n",
      "    @ ./broadcast.jl:605 [inlined]\n",
      "  [8] macro expansion\n",
      "    @ ./broadcast.jl:968 [inlined]\n",
      "  [9] macro expansion\n",
      "    @ ./simdloop.jl:77 [inlined]\n",
      " [10] copyto!\n",
      "    @ ./broadcast.jl:967 [inlined]\n",
      " [11] copyto!\n",
      "    @ ./broadcast.jl:920 [inlined]\n",
      " [12] copy\n",
      "    @ ./broadcast.jl:892 [inlined]\n",
      " [13] materialize(bc::Base.Broadcast.Broadcasted{Base.Broadcast.DefaultArrayStyle{1}, Nothing, var\"#11#12\", Tuple{Vector{SubString{String}}}})\n",
      "    @ Base.Broadcast ./broadcast.jl:867\n",
      " [14] top-level scope\n",
      "    @ ~/adventofcode/jl_notebook_cell_df34fa98e69747e1a8f8a730347b8e2f_W0sZmlsZQ==.jl:1"
     ]
    }
   ],
   "source": [
    "I = (x->parse(Int,x)).(split(readlines(open(\"input\"))[1], \" \"))"
   ]
  },
  {
   "cell_type": "code",
   "execution_count": 106,
   "metadata": {},
   "outputs": [
    {
     "data": {
      "text/plain": [
       "rule (generic function with 1 method)"
      ]
     },
     "metadata": {},
     "output_type": "display_data"
    }
   ],
   "source": [
    "function rule(x)\n",
    "    (x==0) && return [1]\n",
    "    s = string(x)\n",
    "    (length(s) % 2 == 0) && return [parse(Int, s[1:length(s) ÷ 2]), parse(Int, s[length(s)÷2+1:end])]\n",
    "    return [2024*x]\n",
    "end \n"
   ]
  },
  {
   "cell_type": "code",
   "execution_count": 107,
   "metadata": {},
   "outputs": [
    {
     "data": {
      "text/plain": [
       "blink (generic function with 2 methods)"
      ]
     },
     "metadata": {},
     "output_type": "display_data"
    }
   ],
   "source": [
    "using Memoize;\n",
    "@memoize function blink(x,i)\n",
    "    (i==0) && return 1\n",
    "    return sum(blink(y,i-1) for y in rule(x))\n",
    "end"
   ]
  },
  {
   "cell_type": "code",
   "execution_count": 108,
   "metadata": {},
   "outputs": [
    {
     "data": {
      "text/plain": [
       "259593838049805"
      ]
     },
     "metadata": {},
     "output_type": "display_data"
    }
   ],
   "source": [
    "sum(blink.(I,75))"
   ]
  }
 ],
 "metadata": {
  "kernelspec": {
   "display_name": "Julia 1.11.1",
   "language": "julia",
   "name": "julia-1.11"
  },
  "language_info": {
   "file_extension": ".jl",
   "mimetype": "application/julia",
   "name": "julia",
   "version": "1.11.1"
  }
 },
 "nbformat": 4,
 "nbformat_minor": 2
}
