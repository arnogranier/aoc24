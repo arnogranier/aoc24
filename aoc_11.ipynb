{
 "cells": [
  {
   "cell_type": "code",
   "execution_count": 105,
   "metadata": {},
   "outputs": [
    {
     "data": {
      "text/plain": [
       "8-element Vector{Int64}:\n",
       "    3279\n",
       "  998884\n",
       " 1832781\n",
       "     517\n",
       "       8\n",
       "   18864\n",
       "      28\n",
       "       0"
      ]
     },
     "metadata": {},
     "output_type": "display_data"
    }
   ],
   "source": [
    "I = (x->parse(Int,x)).(split(readlines(open(\"input\"))[1], \" \"))"
   ]
  },
  {
   "cell_type": "code",
   "execution_count": 106,
   "metadata": {},
   "outputs": [
    {
     "data": {
      "text/plain": [
       "rule (generic function with 1 method)"
      ]
     },
     "metadata": {},
     "output_type": "display_data"
    }
   ],
   "source": [
    "function rule(x)\n",
    "    (x==0) && return [1]\n",
    "    s = string(x)\n",
    "    (length(s) % 2 == 0) && return [parse(Int, s[1:length(s) ÷ 2]), parse(Int, s[length(s)÷2+1:end])]\n",
    "    return [2024*x]\n",
    "end \n"
   ]
  },
  {
   "cell_type": "code",
   "execution_count": 107,
   "metadata": {},
   "outputs": [
    {
     "data": {
      "text/plain": [
       "blink (generic function with 2 methods)"
      ]
     },
     "metadata": {},
     "output_type": "display_data"
    }
   ],
   "source": [
    "using Memoize;\n",
    "@memoize function blink(x,i)\n",
    "    (i==0) && return 1\n",
    "    return sum(blink(y,i-1) for y in rule(x))\n",
    "end"
   ]
  },
  {
   "cell_type": "code",
   "execution_count": 108,
   "metadata": {},
   "outputs": [
    {
     "data": {
      "text/plain": [
       "259593838049805"
      ]
     },
     "metadata": {},
     "output_type": "display_data"
    }
   ],
   "source": [
    "sum(blink.(I,75))"
   ]
  }
 ],
 "metadata": {
  "kernelspec": {
   "display_name": "Julia 1.11.1",
   "language": "julia",
   "name": "julia-1.11"
  },
  "language_info": {
   "file_extension": ".jl",
   "mimetype": "application/julia",
   "name": "julia",
   "version": "1.11.1"
  }
 },
 "nbformat": 4,
 "nbformat_minor": 2
}
