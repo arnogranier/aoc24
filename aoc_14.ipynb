{
 "cells": [
  {
   "cell_type": "code",
   "execution_count": 2976,
   "metadata": {},
   "outputs": [
    {
     "data": {
      "text/plain": [
       "([44, 56, 6, 64, 57, 5, 2, 80, 76, 7  …  42, 97, 79, 95, 40, 36, 75, 89, 54, 20], [70, 4, 30, 4, 22, 22, 48, 54, 0, 89  …  3, 31, 34, 66, 52, 102, 98, 90, 50, 72], [-47, 69, -52, 35, -56, 18, 88, 28, 98, 33  …  -54, 58, 99, -19, 47, -67, -4, -52, 30, -84], [36, 91, -60, 44, 48, 37, -65, -40, 4, -33  …  -17, -1, -30, 57, 46, -58, 39, 50, 57, -32])"
      ]
     },
     "metadata": {},
     "output_type": "display_data"
    }
   ],
   "source": [
    "I = split.(readlines(open(\"input\")), \" \")\n",
    "parsing(x) = parse.(Int,split(split(x, \"=\")[2], \",\"))\n",
    "I = stack(reduce.(vcat,broadcast.(parsing, I)))\n",
    "px, py, vx, vy = I[1,:], I[2,:], I[3,:], I[4,:]"
   ]
  },
  {
   "cell_type": "code",
   "execution_count": 2977,
   "metadata": {},
   "outputs": [
    {
     "data": {
      "text/plain": [
       "step! (generic function with 1 method)"
      ]
     },
     "metadata": {},
     "output_type": "display_data"
    }
   ],
   "source": [
    "function step!(px, py, vx, vy)\n",
    "    px[:] = mod.(px+vx,101)\n",
    "    py[:] = mod.(py+vy,103)\n",
    "end"
   ]
  },
  {
   "cell_type": "code",
   "execution_count": 2978,
   "metadata": {},
   "outputs": [],
   "source": [
    "using Plots\n",
    "for i in 1:10000\n",
    "    step!(px, py, vx, vy)\n",
    "    save_plot(px, py, i)\n",
    "end"
   ]
  },
  {
   "cell_type": "code",
   "execution_count": 2964,
   "metadata": {},
   "outputs": [],
   "source": [
    "for i in 1:100\n",
    "    step!(px, py, vx, vy)\n",
    "end"
   ]
  },
  {
   "cell_type": "code",
   "execution_count": 2965,
   "metadata": {},
   "outputs": [
    {
     "data": {
      "text/plain": [
       "233407680"
      ]
     },
     "metadata": {},
     "output_type": "display_data"
    }
   ],
   "source": [
    "I = zeros(101,103)\n",
    "for (x,y) in zip(px,py)\n",
    "    I[x+1,y+1] += 1\n",
    "end\n",
    "q1 = sum(I[1:size(I,1) ÷ 2, 1:size(I,2) ÷ 2])\n",
    "q2 = sum(I[1:size(I,1) ÷ 2, size(I,2) ÷ 2+2:end])\n",
    "q3 = sum(I[2+size(I,1) ÷ 2:end, 1:size(I,2) ÷ 2])\n",
    "q4 = sum(I[2+size(I,1) ÷ 2:end, size(I,2) ÷ 2+2:end])\n",
    "Int(q1*q2*q3*q4)"
   ]
  },
  {
   "cell_type": "code",
   "execution_count": null,
   "metadata": {},
   "outputs": [
    {
     "data": {
      "text/plain": [
       "save_plot (generic function with 2 methods)"
      ]
     },
     "metadata": {},
     "output_type": "display_data"
    }
   ],
   "source": [
    "using Images\n",
    "function save_plot(px, py, i)\n",
    "    I = zeros(101,103)\n",
    "    for (x,y) in zip(px,py)\n",
    "        I[x+1,y+1] = 1\n",
    "    end\n",
    "    Images.save(\"14frames/frame\"*string(i)*\".png\", Gray.(I)')\n",
    "    return nothing\n",
    "end"
   ]
  }
 ],
 "metadata": {
  "kernelspec": {
   "display_name": "Julia 1.11.1",
   "language": "julia",
   "name": "julia-1.11"
  },
  "language_info": {
   "file_extension": ".jl",
   "mimetype": "application/julia",
   "name": "julia",
   "version": "1.11.1"
  }
 },
 "nbformat": 4,
 "nbformat_minor": 2
}
