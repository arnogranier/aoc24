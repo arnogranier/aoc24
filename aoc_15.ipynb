{
 "cells": [
  {
   "cell_type": "code",
   "execution_count": 1,
   "metadata": {},
   "outputs": [
    {
     "data": {
      "text/plain": [
       "50×50 Matrix{Char}:\n",
       " '#'  '#'  '#'  '#'  '#'  '#'  '#'  '#'  …  '#'  '#'  '#'  '#'  '#'  '#'  '#'\n",
       " '#'  'O'  '.'  '.'  'O'  '.'  '.'  '.'     '.'  '.'  '.'  '.'  '.'  '#'  '#'\n",
       " '#'  '.'  '#'  '.'  'O'  '.'  '.'  '.'     '.'  'O'  '.'  '.'  '.'  'O'  '#'\n",
       " '#'  '.'  'O'  'O'  'O'  '.'  '.'  '#'     '.'  '.'  '.'  'O'  'O'  '.'  '#'\n",
       " '#'  '.'  'O'  '.'  '.'  '#'  '.'  '.'     '#'  '.'  '.'  '.'  '.'  'O'  '#'\n",
       " '#'  '.'  '.'  '.'  '.'  '.'  '#'  '.'  …  'O'  '.'  '.'  '#'  '.'  '#'  '#'\n",
       " '#'  '#'  '.'  '.'  '#'  '.'  '.'  '#'     '.'  '.'  '#'  '.'  '.'  '.'  '#'\n",
       " '#'  '.'  'O'  'O'  '.'  'O'  '.'  '#'     '.'  '.'  '.'  '.'  '.'  'O'  '#'\n",
       " '#'  '.'  '.'  'O'  '#'  '.'  '.'  '#'     '#'  'O'  'O'  'O'  'O'  '.'  '#'\n",
       " '#'  '.'  '.'  '.'  'O'  '.'  'O'  '.'     'O'  '.'  '.'  'O'  '.'  'O'  '#'\n",
       " ⋮                        ⋮              ⋱            ⋮                   \n",
       " '#'  'O'  '.'  '.'  '.'  '.'  '.'  'O'     '#'  '.'  'O'  '.'  'O'  '.'  '#'\n",
       " '#'  '.'  '.'  '.'  '.'  'O'  '.'  '.'     '.'  'O'  '.'  '.'  '#'  '.'  '#'\n",
       " '#'  '.'  '.'  'O'  '.'  '#'  'O'  '.'     '.'  '.'  'O'  '.'  '.'  '.'  '#'\n",
       " '#'  '.'  '.'  '.'  '.'  'O'  'O'  'O'     '.'  '#'  '.'  '.'  '.'  '.'  '#'\n",
       " '#'  'O'  '.'  'O'  '.'  '.'  '.'  'O'  …  '.'  '.'  'O'  'O'  '.'  '.'  '#'\n",
       " '#'  '.'  '.'  '.'  '.'  '.'  '.'  '.'     '.'  '.'  '.'  '.'  '.'  '.'  '#'\n",
       " '#'  '.'  '.'  'O'  'O'  '#'  '.'  '.'     '#'  '.'  '.'  '.'  '.'  '.'  '#'\n",
       " '#'  '.'  '.'  '.'  '.'  '#'  '.'  'O'     'O'  '.'  'O'  'O'  '.'  'O'  '#'\n",
       " '#'  '#'  '#'  '#'  '#'  '#'  '#'  '#'     '#'  '#'  '#'  '#'  '#'  '#'  '#'"
      ]
     },
     "metadata": {},
     "output_type": "display_data"
    }
   ],
   "source": [
    "I = readlines(open(\"input\"))\n",
    "map, moves = I[begin:findfirst(==(\"\"), I)-1], reduce(*,I[findfirst(==(\"\"), I)+1:end])\n",
    "map = only.(mapreduce(permutedims, vcat, split.(map, \"\")))"
   ]
  },
  {
   "cell_type": "code",
   "execution_count": 2,
   "metadata": {},
   "outputs": [
    {
     "data": {
      "text/plain": [
       "20000-element Vector{CartesianIndex{2}}:\n",
       " CartesianIndex(1, 0)\n",
       " CartesianIndex(0, 1)\n",
       " CartesianIndex(0, -1)\n",
       " CartesianIndex(1, 0)\n",
       " CartesianIndex(0, 1)\n",
       " CartesianIndex(0, -1)\n",
       " CartesianIndex(1, 0)\n",
       " CartesianIndex(0, -1)\n",
       " CartesianIndex(0, -1)\n",
       " CartesianIndex(1, 0)\n",
       " ⋮\n",
       " CartesianIndex(-1, 0)\n",
       " CartesianIndex(1, 0)\n",
       " CartesianIndex(0, 1)\n",
       " CartesianIndex(-1, 0)\n",
       " CartesianIndex(0, -1)\n",
       " CartesianIndex(0, -1)\n",
       " CartesianIndex(0, -1)\n",
       " CartesianIndex(0, 1)\n",
       " CartesianIndex(0, 1)"
      ]
     },
     "metadata": {},
     "output_type": "display_data"
    }
   ],
   "source": [
    "up, right, down, left = CartesianIndex(-1, 0), CartesianIndex(0,1), CartesianIndex(1,0), CartesianIndex(0,-1);\n",
    "move_dict = Dict('<'=>left, '>'=>right, '^'=>up, 'v'=>down)\n",
    "moves = (c->move_dict[c]).(collect(moves))"
   ]
  },
  {
   "cell_type": "code",
   "execution_count": 48,
   "metadata": {},
   "outputs": [],
   "source": [
    "pos = findfirst(==('@'), map)\n",
    "map[pos] = '.';"
   ]
  },
  {
   "cell_type": "code",
   "execution_count": 49,
   "metadata": {},
   "outputs": [],
   "source": [
    "for d in moves\n",
    "    (map[pos+d] == '#') && continue\n",
    "    if (map[pos+d] == '.')\n",
    "        pos += d\n",
    "    elseif(map[pos+d] == 'O')\n",
    "        i = 2\n",
    "        while map[pos+i*d] == 'O'\n",
    "            i += 1\n",
    "        end\n",
    "        (map[pos+i*d] == '#') && continue\n",
    "        map[pos+d] = '.'\n",
    "        map[pos+i*d] = 'O'\n",
    "        pos +=d \n",
    "    end\n",
    "end"
   ]
  },
  {
   "cell_type": "code",
   "execution_count": 8,
   "metadata": {},
   "outputs": [
    {
     "data": {
      "text/plain": [
       "1381454"
      ]
     },
     "metadata": {},
     "output_type": "display_data"
    }
   ],
   "source": [
    "gps(i) = 100*(i[1]-1) + (i[2]-1)\n",
    "sum(gps(i) for i in findall(==('O'), map))"
   ]
  },
  {
   "cell_type": "code",
   "execution_count": 3,
   "metadata": {},
   "outputs": [],
   "source": [
    "new_map = Matrix{Char}(undef, size(map,1), 2*size(map,2))\n",
    "replace_dict = Dict('#'=>['#', '#'], 'O'=>['[',']'], '.'=>['.','.'], '@'=>['@','.'])\n",
    "for i in CartesianIndices(map)\n",
    "    new_map[i[1],2*i[2]-1:2*i[2]] = replace_dict[map[i]]\n",
    "end"
   ]
  },
  {
   "cell_type": "code",
   "execution_count": 4,
   "metadata": {},
   "outputs": [],
   "source": [
    "pos = findfirst(==('@'), new_map)\n",
    "new_map[pos] = '.';"
   ]
  },
  {
   "cell_type": "code",
   "execution_count": 5,
   "metadata": {},
   "outputs": [
    {
     "data": {
      "text/plain": [
       "gather_all_pos (generic function with 1 method)"
      ]
     },
     "metadata": {},
     "output_type": "display_data"
    }
   ],
   "source": [
    "function gather_all_pos(start,d)\n",
    "    all_pos = copy(start)\n",
    "    curr = start\n",
    "    while !isempty(curr)\n",
    "        next = []\n",
    "        for tpos in curr\n",
    "            new_map[tpos+d] == '#' && return nothing\n",
    "            new_map[tpos+d] == '.' && continue\n",
    "            if new_map[tpos+d] == '[' || new_map[tpos+d] == ']'\n",
    "                push!(next, tpos+d)\n",
    "                (new_map[tpos+d] != new_map[tpos]) && push!(next, (new_map[tpos+d] == '[') ? tpos+d+right : tpos+d+left)        \n",
    "            end\n",
    "        end\n",
    "        append!(all_pos, unique(next))\n",
    "        curr = unique(next)\n",
    "    end\n",
    "    return all_pos\n",
    "end"
   ]
  },
  {
   "cell_type": "code",
   "execution_count": 6,
   "metadata": {},
   "outputs": [],
   "source": [
    "for d in moves\n",
    "    (new_map[pos+d] == '#') && continue\n",
    "    if (new_map[pos+d] == '.')\n",
    "        pos += d\n",
    "    elseif(new_map[pos+d] == ']' || new_map[pos+d] == '[')\n",
    "        if d==right || d==left\n",
    "            i = 2\n",
    "            while new_map[pos+i*d] == '[' || new_map[pos+i*d] == ']'\n",
    "                i += 1\n",
    "            end\n",
    "            (new_map[pos+i*d] == '#') && continue\n",
    "            for k in reverse(2:i)\n",
    "                new_map[pos+k*d] = new_map[pos+(k-1)*d]\n",
    "            end\n",
    "            new_map[pos+d] = '.'\n",
    "            pos +=d \n",
    "        else\n",
    "            start = (new_map[pos+d] == ']') ? [pos+d, pos+d+left] : [pos+d, pos+d+right]\n",
    "            all_pos = gather_all_pos(start,d)\n",
    "            isnothing(all_pos) && continue\n",
    "            for pos in reverse(all_pos)\n",
    "                new_map[pos+d] = new_map[pos]\n",
    "                new_map[pos] = '.'\n",
    "            end\n",
    "            pos += d\n",
    "        end\n",
    "    end\n",
    "end"
   ]
  },
  {
   "cell_type": "code",
   "execution_count": 198,
   "metadata": {},
   "outputs": [
    {
     "data": {
      "text/plain": [
       "7×14 Matrix{Char}:\n",
       " '#'  '#'  '#'  '#'  '#'  '#'  '#'  '#'  '#'  '#'  '#'  '#'  '#'  '#'\n",
       " '#'  '#'  '.'  '.'  '.'  '.'  '['  ']'  '.'  '.'  '.'  '.'  '#'  '#'\n",
       " '#'  '#'  '.'  '.'  '.'  '['  ']'  '.'  '.'  '.'  '.'  '.'  '#'  '#'\n",
       " '#'  '#'  '.'  '.'  '.'  '.'  '.'  '.'  '.'  '.'  '.'  '.'  '#'  '#'\n",
       " '#'  '#'  '.'  '.'  '.'  '.'  '.'  '.'  '.'  '.'  '.'  '.'  '#'  '#'\n",
       " '#'  '#'  '.'  '.'  '.'  '.'  '.'  '.'  '.'  '.'  '.'  '.'  '#'  '#'\n",
       " '#'  '#'  '#'  '#'  '#'  '#'  '#'  '#'  '#'  '#'  '#'  '#'  '#'  '#'"
      ]
     },
     "metadata": {},
     "output_type": "display_data"
    }
   ],
   "source": [
    "new_map"
   ]
  },
  {
   "cell_type": "code",
   "execution_count": 9,
   "metadata": {},
   "outputs": [
    {
     "data": {
      "text/plain": [
       "1392847"
      ]
     },
     "metadata": {},
     "output_type": "display_data"
    }
   ],
   "source": [
    "sum(gps(i) for i in findall(==('['), new_map))"
   ]
  },
  {
   "cell_type": "code",
   "execution_count": null,
   "metadata": {},
   "outputs": [],
   "source": []
  }
 ],
 "metadata": {
  "kernelspec": {
   "display_name": "Julia 1.11.1",
   "language": "julia",
   "name": "julia-1.11"
  },
  "language_info": {
   "file_extension": ".jl",
   "mimetype": "application/julia",
   "name": "julia",
   "version": "1.11.1"
  }
 },
 "nbformat": 4,
 "nbformat_minor": 2
}
