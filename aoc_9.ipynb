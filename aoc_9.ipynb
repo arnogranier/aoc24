{
 "cells": [
  {
   "cell_type": "code",
   "execution_count": null,
   "metadata": {},
   "outputs": [
    {
     "data": {
      "text/plain": [
       "18979-element Vector{Int64}:\n",
       "     1\n",
       "    -9\n",
       "     2\n",
       "    -7\n",
       "     3\n",
       "    -2\n",
       "     4\n",
       "     5\n",
       "    -1\n",
       "     6\n",
       "     ⋮\n",
       "  9996\n",
       "    -9\n",
       "  9997\n",
       "    -5\n",
       "  9998\n",
       "    -1\n",
       "  9999\n",
       "    -3\n",
       " 10000"
      ]
     },
     "metadata": {},
     "output_type": "display_data"
    }
   ],
   "source": [
    "I = (x->parse(Int,x)).(split(readlines(open(\"input\"))[1], \"\"))\n",
    "ids = collect(1:1+length(I) ÷ 2)\n",
    "ids_n = Dict(id=>n for (id,n) in zip(ids, I[1:2:end]))\n",
    "I[2:2:end] = -I[2:2:end]\n",
    "I[1:2:end] = ids\n",
    "filter!((!=)(0), I)"
   ]
  },
  {
   "cell_type": "code",
   "execution_count": 167,
   "metadata": {},
   "outputs": [
    {
     "data": {
      "text/plain": [
       "1928"
      ]
     },
     "metadata": {},
     "output_type": "display_data"
    }
   ],
   "source": [
    "r = []\n",
    "for (i,e) in enumerate(I)\n",
    "    e > 0 && append!(r, repeat([e], ids_n[e]))\n",
    "    if e < 0\n",
    "        for k in 1:abs(e)\n",
    "            j = findlast((x->(x>0) && (ids_n[x]>0)), I)\n",
    "            (j<i) && break\n",
    "            append!(r, I[j])\n",
    "            ids_n[I[j]] -= 1\n",
    "        end\n",
    "    end\n",
    "end\n",
    "sum((r.-1) .* collect(0:length(r)-1))"
   ]
  },
  {
   "cell_type": "code",
   "execution_count": 177,
   "metadata": {},
   "outputs": [],
   "source": [
    "for id in reverse(ids)\n",
    "    j = findfirst(x->x<=-ids_n[id], I[1:findlast((==)(id), I)])\n",
    "    isnothing(j) && continue\n",
    "    I[j] += ids_n[id]\n",
    "    I[findlast((==)(id), I)] = -ids_n[id]\n",
    "    insert!(I, j, id)\n",
    "    i = 1\n",
    "    while i <= length(I)\n",
    "        if I[i] < 0\n",
    "            while i+1 <= length(I) && I[i+1] < 0\n",
    "                I[i] += I[i+1]\n",
    "                deleteat!(I, i+1)\n",
    "            end\n",
    "        end\n",
    "        i += 1\n",
    "    end\n",
    "    I = filter!((!=)(0), I)\n",
    "end"
   ]
  },
  {
   "cell_type": "code",
   "execution_count": 178,
   "metadata": {},
   "outputs": [
    {
     "data": {
      "text/plain": [
       "6351801932670"
      ]
     },
     "metadata": {},
     "output_type": "display_data"
    }
   ],
   "source": [
    "expanded = reduce(vcat,[repeat((e>0) ? [e] : [1], (e>0) ? ids_n[e] : abs(e)) for e in I])\n",
    "sum((expanded .- 1) .* collect(0:length(expanded)-1))"
   ]
  }
 ],
 "metadata": {
  "kernelspec": {
   "display_name": "Julia 1.11.1",
   "language": "julia",
   "name": "julia-1.11"
  },
  "language_info": {
   "file_extension": ".jl",
   "mimetype": "application/julia",
   "name": "julia",
   "version": "1.11.1"
  }
 },
 "nbformat": 4,
 "nbformat_minor": 2
}
